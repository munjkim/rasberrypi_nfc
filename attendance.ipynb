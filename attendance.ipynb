{
 "cells": [
  {
   "cell_type": "code",
   "execution_count": 1,
   "metadata": {},
   "outputs": [],
   "source": [
    "import pandas as pd\n",
    "import datetime"
   ]
  },
  {
   "attachments": {},
   "cell_type": "markdown",
   "metadata": {},
   "source": [
    "수강생 중간고사 기준 131명"
   ]
  },
  {
   "cell_type": "code",
   "execution_count": 2,
   "metadata": {},
   "outputs": [],
   "source": [
    "df_data = pd.read_csv('./data/data.csv')\n",
    "df_att = pd.read_csv('./data/attendance.csv')"
   ]
  },
  {
   "cell_type": "code",
   "execution_count": 15,
   "metadata": {},
   "outputs": [],
   "source": [
    "#index 지우기\n",
    "#df_att.drop(labels='Unnamed: 0', axis=1)"
   ]
  },
  {
   "attachments": {},
   "cell_type": "markdown",
   "metadata": {},
   "source": [
    "# 날짜 확인하세요!\n",
    "## csv 파일 첫줄에 아래의 label 삽입하세요!"
   ]
  },
  {
   "cell_type": "markdown",
   "metadata": {},
   "source": []
  },
  {
   "cell_type": "code",
   "execution_count": 16,
   "metadata": {},
   "outputs": [],
   "source": [
    "# Student ID,UID,Time,Date"
   ]
  },
  {
   "cell_type": "code",
   "execution_count": 5,
   "metadata": {},
   "outputs": [],
   "source": [
    "class_date = '2025-03-10'\n",
    "df_class = pd.read_csv('./data/card_data_'+class_date+'.csv')"
   ]
  },
  {
   "cell_type": "code",
   "execution_count": 6,
   "metadata": {},
   "outputs": [],
   "source": [
    "df_att[class_date] = ['X'] * len(df_att)\n",
    "\n",
    "for i in range(len(df_class)):\n",
    "    (hour, minute, second) = df_class['Time'][i].split(\":\")\n",
    "\n",
    "    df_att.loc[df_att['Student ID'] == df_class['Student ID'][i], class_date] = 'A'\n",
    "    \"\"\"\n",
    "    if(int(hour) > 16 and int(minute) > 5):\n",
    "        df_att.loc[df_att['Student ID'] == df_class['Student ID'][i], class_date] = 'L'\n",
    "    else:\n",
    "        df_att.loc[df_att['Student ID'] == df_class['Student ID'][i], class_date] = 'A'\n",
    "    \"\"\"\n",
    "\n",
    "#수기 출석(201911048 shalstjd)\n",
    "#df_att.loc[df_att['Student ID'] == 202211159, class_date] = 'A'\n",
    "\n",
    "\n",
    "df_att.to_csv('./data/attendance.csv', index=False)"
   ]
  }
 ],
 "metadata": {
  "kernelspec": {
   "display_name": "base",
   "language": "python",
   "name": "python3"
  },
  "language_info": {
   "codemirror_mode": {
    "name": "ipython",
    "version": 3
   },
   "file_extension": ".py",
   "mimetype": "text/x-python",
   "name": "python",
   "nbconvert_exporter": "python",
   "pygments_lexer": "ipython3",
   "version": "3.11.0"
  },
  "orig_nbformat": 4
 },
 "nbformat": 4,
 "nbformat_minor": 2
}
